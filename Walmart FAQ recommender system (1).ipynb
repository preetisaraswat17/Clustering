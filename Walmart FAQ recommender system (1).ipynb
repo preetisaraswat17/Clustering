{
 "cells": [
  {
   "cell_type": "markdown",
   "metadata": {},
   "source": [
    "# ------------Walmart customer query solution recommender system-------------------"
   ]
  },
  {
   "cell_type": "markdown",
   "metadata": {},
   "source": [
    "This is a recommender system that uses clustering algorithm to find most related solution of customers questions. The database was made from scratch using walmart faqs and then k-means algorithm was applied. Accuracy of the system can be increased by using more data for training."
   ]
  },
  {
   "cell_type": "code",
   "execution_count": 61,
   "metadata": {},
   "outputs": [],
   "source": [
    "import numpy as np\n",
    "from sklearn.model_selection import train_test_split\n",
    "from sklearn.feature_extraction.text import TfidfVectorizer\n",
    "import scipy as sp\n",
    "import pandas as pd\n",
    "import os\n",
    "from sklearn.cluster import KMeans"
   ]
  },
  {
   "cell_type": "code",
   "execution_count": 62,
   "metadata": {},
   "outputs": [],
   "source": [
    "#step1: import data\n",
    "walmartfaq= [open(os.path.join(r'C:\\Users\\Preeti Saraswat\\Documents\\walmart faq', f), encoding='utf-8').read() for f in\n",
    "os.listdir(r'C:\\Users\\Preeti Saraswat\\Documents\\walmart faq')] \n",
    "#sometimes file in the directory uses different encoding which gives charmap codec error so we need to specify encoding open(filename,encoding)"
   ]
  },
  {
   "cell_type": "code",
   "execution_count": 63,
   "metadata": {},
   "outputs": [],
   "source": [
    "#step2: split data into train and test\n",
    "train,test=train_test_split(walmartfaq,test_size = 0.2)"
   ]
  },
  {
   "cell_type": "code",
   "execution_count": 64,
   "metadata": {},
   "outputs": [],
   "source": [
    "#create vectorizer for feature extraction from text\n",
    "vectorizer = TfidfVectorizer(min_df=1,stop_words='english', decode_error='ignore')\n",
    "final_data=vectorizer.fit_transform(walmartfaq)"
   ]
  },
  {
   "cell_type": "code",
   "execution_count": 65,
   "metadata": {},
   "outputs": [],
   "source": [
    "n_samples,n_features=final_data.shape"
   ]
  },
  {
   "cell_type": "code",
   "execution_count": 66,
   "metadata": {},
   "outputs": [
    {
     "name": "stdout",
     "output_type": "stream",
     "text": [
      "20 285\n"
     ]
    }
   ],
   "source": [
    "print(n_samples,n_features)"
   ]
  },
  {
   "cell_type": "code",
   "execution_count": 69,
   "metadata": {},
   "outputs": [
    {
     "name": "stdout",
     "output_type": "stream",
     "text": [
      "Initialization complete\n",
      "Iteration  0, inertia 14.379\n",
      "Iteration  1, inertia 7.740\n",
      "Converged at iteration 1: center shift 0.000000e+00 within tolerance 2.941016e-07\n",
      "Initialization complete\n",
      "Iteration  0, inertia 14.259\n",
      "Iteration  1, inertia 7.375\n",
      "Converged at iteration 1: center shift 0.000000e+00 within tolerance 2.941016e-07\n",
      "Initialization complete\n",
      "Iteration  0, inertia 13.110\n",
      "Iteration  1, inertia 7.372\n",
      "Converged at iteration 1: center shift 0.000000e+00 within tolerance 2.941016e-07\n",
      "Initialization complete\n",
      "Iteration  0, inertia 12.233\n",
      "Iteration  1, inertia 6.481\n",
      "Converged at iteration 1: center shift 0.000000e+00 within tolerance 2.941016e-07\n",
      "Initialization complete\n",
      "Iteration  0, inertia 13.874\n",
      "Iteration  1, inertia 6.673\n",
      "Converged at iteration 1: center shift 0.000000e+00 within tolerance 2.941016e-07\n",
      "Initialization complete\n",
      "Iteration  0, inertia 13.122\n",
      "Iteration  1, inertia 6.543\n",
      "Converged at iteration 1: center shift 0.000000e+00 within tolerance 2.941016e-07\n",
      "Initialization complete\n",
      "Iteration  0, inertia 13.060\n",
      "Iteration  1, inertia 7.109\n",
      "Converged at iteration 1: center shift 0.000000e+00 within tolerance 2.941016e-07\n",
      "Initialization complete\n",
      "Iteration  0, inertia 13.127\n",
      "Iteration  1, inertia 7.027\n",
      "Converged at iteration 1: center shift 0.000000e+00 within tolerance 2.941016e-07\n",
      "Initialization complete\n",
      "Iteration  0, inertia 14.502\n",
      "Iteration  1, inertia 6.629\n",
      "Converged at iteration 1: center shift 0.000000e+00 within tolerance 2.941016e-07\n",
      "Initialization complete\n",
      "Iteration  0, inertia 12.850\n",
      "Iteration  1, inertia 6.852\n",
      "Converged at iteration 1: center shift 0.000000e+00 within tolerance 2.941016e-07\n"
     ]
    },
    {
     "data": {
      "text/plain": [
       "KMeans(algorithm='auto', copy_x=True, init='random', max_iter=300,\n",
       "    n_clusters=10, n_init=10, n_jobs=1, precompute_distances='auto',\n",
       "    random_state=None, tol=0.0001, verbose=1)"
      ]
     },
     "execution_count": 69,
     "metadata": {},
     "output_type": "execute_result"
    }
   ],
   "source": [
    "#define number of clusters\n",
    "clusters=10\n",
    "km = KMeans(n_clusters=clusters, init='random', n_init=10,verbose=1)\n",
    "km.fit(final_data)"
   ]
  },
  {
   "cell_type": "code",
   "execution_count": 72,
   "metadata": {},
   "outputs": [
    {
     "data": {
      "text/plain": [
       "array([3, 7, 7, 9, 2, 1, 4, 1, 0, 1, 5, 3, 4, 8, 3, 7, 6, 3, 8, 7])"
      ]
     },
     "execution_count": 72,
     "metadata": {},
     "output_type": "execute_result"
    }
   ],
   "source": [
    "km.labels_ #For every vectorized post that has been fit, there is a corresponding integer label"
   ]
  },
  {
   "cell_type": "code",
   "execution_count": 89,
   "metadata": {},
   "outputs": [],
   "source": [
    "#Define query by the user and vectorise it\n",
    "new_post=('my walmart credit card has low balance')\n",
    "vectorised_post=vectorizer.transform([new_post])"
   ]
  },
  {
   "cell_type": "code",
   "execution_count": 90,
   "metadata": {},
   "outputs": [],
   "source": [
    "#now we have clusters so we dont need to compare new_post to all the posts in file content instead we only need to look in cluster with similar indices\n",
    "new_post_label = km.predict(vectorised_post)[0]"
   ]
  },
  {
   "cell_type": "code",
   "execution_count": 91,
   "metadata": {},
   "outputs": [],
   "source": [
    "#Let us fetch their indices in the original dataset:\n",
    "same_index = (km.labels_==new_post_label).nonzero()[0]"
   ]
  },
  {
   "cell_type": "code",
   "execution_count": 92,
   "metadata": {},
   "outputs": [
    {
     "name": "stdout",
     "output_type": "stream",
     "text": [
      "2\n"
     ]
    }
   ],
   "source": [
    "#Using similar_indices, we now need to build a list of posts together with their similarity scores:\n",
    "similar = []\n",
    "for i in same_index:\n",
    "      dist = sp.linalg.norm((vectorised_post - final_data[i]).toarray())\n",
    "      similar.append((dist, walmartfaq[i]))\n",
    "similar = sorted(similar)\n",
    "print(len(similar))\n"
   ]
  },
  {
   "cell_type": "code",
   "execution_count": 95,
   "metadata": {},
   "outputs": [],
   "source": [
    "#there are 2 similar objects so to print them\n",
    "show_at_1 = similar[0]\n",
    "show_at_2 = similar[1]"
   ]
  },
  {
   "cell_type": "code",
   "execution_count": 94,
   "metadata": {},
   "outputs": [
    {
     "name": "stdout",
     "output_type": "stream",
     "text": [
      "(0.9623082919761053, 'How to Check Your walmart credit card Balance\\nSign in to your Walmart Credit Card Account to check your balance.')\n"
     ]
    }
   ],
   "source": [
    "print(show_at_1)"
   ]
  },
  {
   "cell_type": "code",
   "execution_count": 96,
   "metadata": {},
   "outputs": [
    {
     "name": "stdout",
     "output_type": "stream",
     "text": [
      "(1.2416419270774717, 'how to Request a Credit Limit Increase or Decrease in your walmart credit card?\\nSign in to your Walmart Credit Card Account.\\nClick on the \"Request a Credit Limit Increase\".\\nOr you can contact Walmart Credit Services toll-free at 1-877-294-7880.\\nRepresentatives are available to assist you 24 hours a day, seven days a week.')\n"
     ]
    }
   ],
   "source": [
    "print(show_at_2)"
   ]
  },
  {
   "cell_type": "code",
   "execution_count": null,
   "metadata": {},
   "outputs": [],
   "source": []
  }
 ],
 "metadata": {
  "kernelspec": {
   "display_name": "Python 3",
   "language": "python",
   "name": "python3"
  },
  "language_info": {
   "codemirror_mode": {
    "name": "ipython",
    "version": 3
   },
   "file_extension": ".py",
   "mimetype": "text/x-python",
   "name": "python",
   "nbconvert_exporter": "python",
   "pygments_lexer": "ipython3",
   "version": "3.5.2"
  }
 },
 "nbformat": 4,
 "nbformat_minor": 2
}
